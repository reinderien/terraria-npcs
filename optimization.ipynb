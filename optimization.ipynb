{
 "cells": [
  {
   "cell_type": "markdown",
   "metadata": {},
   "source": [
    "There are 19 NPCs, 25 in hard mode. That means up to 50 discrete variables to optimize.\n",
    "\n",
    "This problem has been discussed on\n",
    "[Computer Science Stack Exchange](https://cs.stackexchange.com/questions/127815).\n",
    "\n",
    "In the ideal (discrete) case, a constraint such as the first one mentioned in the\n",
    "[wiki](https://terraria.gamepedia.com/NPCs#Happiness):\n",
    "\n",
    "> Two or more other NPCs within 25 tiles (for each additional NPC): 104%\n",
    "\n",
    "can be represented by a modified Heaviside function for each other node:\n",
    "\n",
    "$$\n",
    "\\mu = 1.04 H(x - 25)\n",
    "$$"
   ]
  },
  {
   "cell_type": "code",
   "execution_count": 5,
   "metadata": {},
   "outputs": [
    {
     "data": {
      "application/vnd.jupyter.widget-view+json": {
       "model_id": "bc6e60158dfc4bf29756c189326fb0b8",
       "version_major": 2,
       "version_minor": 0
      },
      "text/plain": [
       "Canvas(toolbar=Toolbar(toolitems=[('Home', 'Reset original view', 'home', 'home'), ('Back', 'Back to previous …"
      ]
     },
     "metadata": {},
     "output_type": "display_data"
    },
    {
     "data": {
      "text/plain": [
       "Text(0.5, 1.0, 'Crowding cost, ideal Heaviside')"
      ]
     },
     "execution_count": 5,
     "metadata": {},
     "output_type": "execute_result"
    }
   ],
   "source": [
    "%matplotlib widget\n",
    "\n",
    "import numpy as np\n",
    "import matplotlib.pyplot as plt\n",
    "\n",
    "x = np.linspace(0, 40, 200)\n",
    "y = np.piecewise(\n",
    "    x,\n",
    "    (x <= 25, x > 25),\n",
    "    (1, 1.04),\n",
    ")\n",
    "plt.plot(x, y)\n",
    "plt.xlabel('Distance between these two nodes')\n",
    "plt.ylabel('Cost')\n",
    "plt.grid()\n",
    "plt.title('Crowding cost, ideal Heaviside')"
   ]
  },
  {
   "cell_type": "code",
   "execution_count": null,
   "metadata": {},
   "outputs": [],
   "source": []
  }
 ],
 "metadata": {
  "kernelspec": {
   "display_name": "Python 3",
   "language": "python",
   "name": "python3"
  },
  "language_info": {
   "codemirror_mode": {
    "name": "ipython",
    "version": 3
   },
   "file_extension": ".py",
   "mimetype": "text/x-python",
   "name": "python",
   "nbconvert_exporter": "python",
   "pygments_lexer": "ipython3",
   "version": "3.8.3"
  }
 },
 "nbformat": 4,
 "nbformat_minor": 1
}
