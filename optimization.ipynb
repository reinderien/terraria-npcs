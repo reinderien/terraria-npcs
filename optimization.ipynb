{
 "cells": [
  {
   "cell_type": "markdown",
   "metadata": {},
   "source": [
    "There are 19 NPCs, 25 in hard mode. That means up to 50 discrete variables to optimize.\n",
    "\n",
    "This problem has been discussed on\n",
    "[Computer Science Stack Exchange](https://cs.stackexchange.com/questions/127815).\n",
    "\n",
    "In the ideal (discrete) case, a constraint such as the first one mentioned in the\n",
    "[wiki](https://terraria.gamepedia.com/NPCs#Happiness):\n",
    "\n",
    "> Two or more other NPCs within 25 tiles (for each additional NPC): 104%\n",
    "\n",
    "can be represented by a modified Heaviside function for each other node:\n",
    "\n",
    "$$\n",
    "\\mu = 1.04 H(25 - x)\n",
    "$$"
   ]
  },
  {
   "cell_type": "code",
   "execution_count": 3,
   "metadata": {},
   "outputs": [
    {
     "data": {
      "application/vnd.jupyter.widget-view+json": {
       "model_id": "7e9c69891a104a86a5302d96ccbd9add",
       "version_major": 2,
       "version_minor": 0
      },
      "text/plain": [
       "Canvas(toolbar=Toolbar(toolitems=[('Home', 'Reset original view', 'home', 'home'), ('Back', 'Back to previous …"
      ]
     },
     "metadata": {},
     "output_type": "display_data"
    }
   ],
   "source": [
    "%matplotlib widget\n",
    "\n",
    "import numpy as np\n",
    "import matplotlib.pyplot as plt\n",
    "\n",
    "x = np.linspace(0, 40, 200)\n",
    "μ = np.piecewise(\n",
    "    x,\n",
    "    (x <= 25, x > 25),\n",
    "    (1.04, 1.00),\n",
    ")\n",
    "plt.plot(x, μ)\n",
    "plt.title('Crowding cost, ideal Heaviside')\n",
    "plt.xlabel('Distance between these two nodes')\n",
    "plt.ylabel('Cost')\n",
    "plt.grid()\n",
    "plt.show()"
   ]
  },
  {
   "cell_type": "markdown",
   "metadata": {},
   "source": [
    "However, this cost function is inconvenient, because it prevents any kind of continuous optimizer from working. It is non-differentiable and so standard techniques like gradient descent will not work. Instead, the suggested approach is to make a continuous sigmoid approximation:\n",
    "\n",
    "$$\n",
    "\\mu \\approx 1 + \\frac {1.04 - 1}\n",
    "{1 + e^{\\alpha (x - 25)}}\n",
    "$$"
   ]
  },
  {
   "cell_type": "code",
   "execution_count": 4,
   "metadata": {},
   "outputs": [
    {
     "data": {
      "application/vnd.jupyter.widget-view+json": {
       "model_id": "f3e47202495b47aaa54c7cb927148417",
       "version_major": 2,
       "version_minor": 0
      },
      "text/plain": [
       "Canvas(toolbar=Toolbar(toolitems=[('Home', 'Reset original view', 'home', 'home'), ('Back', 'Back to previous …"
      ]
     },
     "metadata": {},
     "output_type": "display_data"
    }
   ],
   "source": [
    "α = np.array([0.3, 0.5, 1, 5], ndmin=2)\n",
    "x = np.array(np.linspace(0, 40, 500), ndmin=2).T\n",
    "μ = 1 + (1.04 - 1)/(1 + np.exp(α*(x - 25)))\n",
    "plt.figure()\n",
    "plt.plot(x, μ)\n",
    "plt.title('Crowding cost, approximate sigmoid, various α')\n",
    "plt.xlabel('Distance between these two nodes')\n",
    "plt.ylabel('Cost')\n",
    "plt.legend(α.flatten())\n",
    "plt.grid()\n",
    "plt.show()"
   ]
  },
  {
   "cell_type": "code",
   "execution_count": null,
   "metadata": {},
   "outputs": [],
   "source": []
  }
 ],
 "metadata": {
  "kernelspec": {
   "display_name": "Python 3",
   "language": "python",
   "name": "python3"
  },
  "language_info": {
   "codemirror_mode": {
    "name": "ipython",
    "version": 3
   },
   "file_extension": ".py",
   "mimetype": "text/x-python",
   "name": "python",
   "nbconvert_exporter": "python",
   "pygments_lexer": "ipython3",
   "version": "3.8.3"
  }
 },
 "nbformat": 4,
 "nbformat_minor": 1
}
