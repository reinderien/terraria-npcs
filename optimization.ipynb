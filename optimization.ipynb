{
 "cells": [
  {
   "cell_type": "markdown",
   "metadata": {},
   "source": [
    "_Warning to the Jupyter reader: Gist/Github drop some formula lines and ignore MathJax backslash newlines; Latex doesn't render Greek characters in source blocks; and Notebook doesn't support \\mathbb. The only export format that remotely works is HTML. What a clusterfuck._"
   ]
  },
  {
   "cell_type": "code",
   "execution_count": 1,
   "metadata": {},
   "outputs": [],
   "source": [
    "# %matplotlib widget for interactive mode, or\n",
    "# %matplotlib inline for print mode\n",
    "%matplotlib widget"
   ]
  },
  {
   "cell_type": "markdown",
   "metadata": {},
   "source": [
    "Introduction\n",
    "---\n",
    "\n",
    "This problem has been discussed on\n",
    "[Computer Science Stack Exchange](https://cs.stackexchange.com/questions/127815). To recap:\n",
    "\n",
    "There are up to 25 nodes, each representing a\n",
    "[Terraria](https://en.wikipedia.org/wiki/Terraria) NPC's home location. These locations can be optimized based on a collection of cost factors. All factors are cost multipliers (higher is worse). Distances are discrete integers. None of the factors are continuous, and none are differentiable in space since they are all piece-wise. As a result, something like Gradient Descent is not possible without continuous approximation.\n",
    "\n",
    "The 2D coordinates of each node are discrete and - for these purposes - unbounded. Since there are 25 nodes, there are 50 integer variables (xy for each node) to optimize. The hope is that even though there are no bounds, there will be enough sub-1.0 factors to have the optimization converge rather than force the nodes to fly apart.\n",
    "\n",
    "In most modes of this optimization problem there are also between 2-3 biome regions extending out infinitely from the origin separated by straight lines. Each biome exactly encompasses one or more Cartesian quadrants. Each imposes a fixed cost or benefit to each node, but in the ideal case this cost does not change the \"farther into the biome\" a node gets. If I get the base optimization working well enough for a given biome configuration, I might expand this to selection of a biome configuration, for which there are currently 46 possibilities.\n",
    "\n",
    "\n",
    "Simple Pair Costs\n",
    "---\n",
    "\n",
    "In the ideal (discrete) case, simple cost factors such as NPC pair relationships mentioned in the\n",
    "[wiki](https://terraria.gamepedia.com/NPCs#Happiness):\n",
    "\n",
    "> - For each Loved NPC within 25 tiles: 90%\n",
    "> - For each Liked NPC within 25 tiles: 95%\n",
    "> - For each Disliked NPC within 25 tiles: 105%\n",
    "> - For each Hated NPC within 25 tiles: 110%\n",
    "\n",
    "can be represented by a modified Heaviside function for each other node, e.g.:\n",
    "\n",
    "$$\n",
    "\\mu = 1 + (1.05 - 1) H(25 - d)\n",
    "$$"
   ]
  },
  {
   "cell_type": "code",
   "execution_count": 2,
   "metadata": {},
   "outputs": [
    {
     "data": {
      "application/vnd.jupyter.widget-view+json": {
       "model_id": "1b10e9be783b4a37b1af32a95626f2b8",
       "version_major": 2,
       "version_minor": 0
      },
      "text/plain": [
       "Canvas(toolbar=Toolbar(toolitems=[('Home', 'Reset original view', 'home', 'home'), ('Back', 'Back to previous …"
      ]
     },
     "metadata": {},
     "output_type": "display_data"
    }
   ],
   "source": [
    "import numpy as np\n",
    "import matplotlib.pyplot as plt\n",
    "\n",
    "d = np.linspace(0, 40, 200)\n",
    "μ = 1 + (1.05 - 1)*np.heaviside(25 - d, 0.5)\n",
    "fig = plt.figure(1)\n",
    "plt.plot(d, μ)\n",
    "fig.axes[0].set_axisbelow(True)\n",
    "plt.title('\"Disliked\" cost, ideal Heaviside')\n",
    "plt.xlabel('Distance between these two nodes')\n",
    "plt.ylabel('Cost factor')\n",
    "plt.grid()\n",
    "plt.show()"
   ]
  },
  {
   "cell_type": "markdown",
   "metadata": {},
   "source": [
    "Sigmoid Approximation\n",
    "---\n",
    "\n",
    "However, this cost function is inconvenient, because it prevents any kind of continuous optimizer from working. It is non-differentiable and so standard techniques like gradient descent will not work. Instead, the suggested approach is to make a continuous sigmoid approximation. Increasing values of $\\alpha$ will improve the approximation:\n",
    "\n",
    "$$\n",
    "\\mu = 1 + \\lim_{\\alpha \\to \\infty} \n",
    "\\frac {1.05 - 1}\n",
    "{1 + e^{\\alpha (d - 25)}}\n",
    "$$"
   ]
  },
  {
   "cell_type": "code",
   "execution_count": 3,
   "metadata": {},
   "outputs": [
    {
     "data": {
      "application/vnd.jupyter.widget-view+json": {
       "model_id": "6bef63e7eed34e929f24548ac637c598",
       "version_major": 2,
       "version_minor": 0
      },
      "text/plain": [
       "Canvas(toolbar=Toolbar(toolitems=[('Home', 'Reset original view', 'home', 'home'), ('Back', 'Back to previous …"
      ]
     },
     "metadata": {},
     "output_type": "display_data"
    }
   ],
   "source": [
    "α = np.array([0.2, 0.3, 0.5, 1, 4], ndmin=2)\n",
    "d = np.array(np.linspace(0, 40, 500), ndmin=2).T\n",
    "μ = 1 + (1.05 - 1)/(1 + np.exp(α*(d - 25)))\n",
    "fig = plt.figure(2)\n",
    "plt.plot(d, μ)\n",
    "fig.axes[0].set_axisbelow(True)\n",
    "plt.title('\"Disliked\" cost, approximate sigmoid')\n",
    "plt.xlabel('Distance between these two nodes')\n",
    "plt.ylabel('Cost factor')\n",
    "plt.legend(α.flatten(), title='α')\n",
    "plt.grid()\n",
    "plt.show()"
   ]
  },
  {
   "cell_type": "markdown",
   "metadata": {},
   "source": [
    "Biome costs\n",
    "---\n",
    "\n",
    "Biome costs will be more complex:\n",
    "\n",
    "> - Located in a Loved biome: 90%\n",
    "> - Located in a Liked biome: 95%\n",
    "> - Located in a Disliked biome: 105%\n",
    "> - Located in a Hated biome: 110%\n",
    "\n",
    "because they require a two-dimensional cost function. The cost function depends on the calculated quadrant:\n",
    "\n",
    "$$\n",
    "\\theta \\in \\text{I}, 0 \\le \\theta < 4\n",
    "$$\n",
    "\n",
    "$$\n",
    "\\theta=\\mod\\left(\n",
    "   \\left\\lfloor \\frac {2 \\text{atan2}(y,x)} \\pi \\right\\rfloor,\n",
    "   4\n",
    "\\right)\n",
    "$$\n",
    "\n",
    "or as a piece-wise function,\n",
    "\n",
    "$$\n",
    "\\theta = \\begin{cases}\n",
    "  0  & x \\ge 0, y \\ge 0 \\\\\n",
    "  1  & x <   0, y \\ge 0 \\\\\n",
    "  2  & x <   0, y <   0 \\\\\n",
    "  3  & x \\ge 0, y <   0 \\\\\n",
    "\\end{cases}\n",
    "$$\n",
    "\n",
    "$$b_{\\theta} \\in \\text{R}, b_{\\theta} > 0$$\n",
    "\n",
    "For the ideal case,\n",
    "\n",
    "$$\\mu = b_{\\theta}$$\n",
    "\n",
    "For the approximated case, the cost factor must rely on all four quadrants:\n",
    "\n",
    "$$\n",
    "s_x(\\theta) = \\sqrt{2} \\cos \\frac {\\pi(\\theta+0.5)} 2 \n",
    "= (+1, -1, -1, +1)\n",
    "$$\n",
    "\n",
    "$$\n",
    "s_y(\\theta) = \\sqrt{2} \\sin \\frac {\\pi(\\theta+0.5)} 2 \n",
    "= (+1, +1, -1, -1)\n",
    "$$\n",
    "\n",
    "$$\n",
    "\\mu(x, y) = \\prod_{\\theta=0}^3\n",
    "\\left(1 + \n",
    "    \\lim_{\\alpha \\to \\infty}\n",
    "    \\frac {b_\\theta - 1}\n",
    "    {\n",
    "        \\left(1 + e^{-\\alpha x s_x(\\theta)} \\right)\n",
    "        \\left(1 + e^{-\\alpha y s_y(\\theta)} \\right)\n",
    "    }\n",
    "\\right)\n",
    "$$\n",
    "\n",
    "By example, for _liked_ , _hated_ , _neutral_ and _neutral_ biomes in quadrants I through IV respectively:\n",
    "\n",
    "$$b = (0.95, 1.10, 1.00, 1.00)$$"
   ]
  },
  {
   "cell_type": "code",
   "execution_count": 4,
   "metadata": {},
   "outputs": [
    {
     "data": {
      "application/vnd.jupyter.widget-view+json": {
       "model_id": "01a0cdbc4ff540259011847b3985639d",
       "version_major": 2,
       "version_minor": 0
      },
      "text/plain": [
       "Canvas(toolbar=Toolbar(toolitems=[('Home', 'Reset original view', 'home', 'home'), ('Back', 'Back to previous …"
      ]
     },
     "metadata": {},
     "output_type": "display_data"
    }
   ],
   "source": [
    "α = 2\n",
    "axis = np.linspace(-5, 5, 200)\n",
    "x, y = np.meshgrid(axis, axis)\n",
    "b  = np.array((0.95,  1.10,  1.00,  1.00), ndmin=3)\n",
    "sx = np.array((1, -1, -1,  1), ndmin=3)\n",
    "sy = np.array((1,  1, -1, -1), ndmin=3)\n",
    "\n",
    "μ = (\n",
    "    1 + (b - 1)\n",
    "    / (1 + np.exp(-α*sx * x[:, :, np.newaxis]))\n",
    "    / (1 + np.exp(-α*sy * y[:, :, np.newaxis]))\n",
    ").prod(axis=2)\n",
    "\n",
    "fig = plt.figure(3)\n",
    "plot = plt.contour(x, y, μ, levels=15)\n",
    "fig.axes[0].set_axisbelow(True)\n",
    "plt.title(f'Biome cost, approximate sigmoid, α={α}')\n",
    "plt.clabel(plot)\n",
    "plt.grid()\n",
    "plt.show()"
   ]
  },
  {
   "cell_type": "markdown",
   "metadata": {},
   "source": [
    "Crowding Cost\n",
    "---\n",
    "\n",
    "Multi-node interactions will also be more complex:\n",
    "\n",
    "> Two or more other NPCs within 25 tiles (for each additional NPC): 104%\n",
    "\n",
    "This implies:\n",
    "\n",
    "- Calculate the Frobenius norm relative to all other nodes\n",
    "- Find the closest node and remove it from the cost\n",
    "- For all other nodes, calculate the product of sigmoid circles of diameter 25\n",
    "\n",
    "For node $n$, and other nodes $m_i$, remove the node with this minimum for the Frobenius norm:\n",
    "\n",
    "$$\n",
    "\\min_i \\left|\\middle|\n",
    "m_i - n\n",
    "\\middle|\\right|_F\n",
    "$$\n",
    "\n",
    "Then for the remaining nodes, calculate their radial sigmoid:\n",
    "\n",
    "$$\n",
    "\\mu(x, y) = \\prod_i \\left(\n",
    "    1 + \n",
    "    \\lim_{\\alpha \\to \\infty}\n",
    "    \\frac {1.04 - 1}\n",
    "    {\n",
    "        1 + e^{\n",
    "            \\alpha( ||m_i - n||_F - 25 )\n",
    "        }\n",
    "    }\n",
    "\\right)\n",
    "$$"
   ]
  },
  {
   "cell_type": "code",
   "execution_count": 5,
   "metadata": {},
   "outputs": [
    {
     "data": {
      "application/vnd.jupyter.widget-view+json": {
       "model_id": "9e063e53b12a4412af0e8fdb61fcd9db",
       "version_major": 2,
       "version_minor": 0
      },
      "text/plain": [
       "Canvas(toolbar=Toolbar(toolitems=[('Home', 'Reset original view', 'home', 'home'), ('Back', 'Back to previous …"
      ]
     },
     "metadata": {},
     "output_type": "display_data"
    }
   ],
   "source": [
    "α = 0.5\n",
    "this_node = np.array((2, 1))\n",
    "other_nodes = np.array((\n",
    "    (-20, 30),\n",
    "    ( 20, 21),\n",
    "    (  5,  6),\n",
    "    ( 26,-20),\n",
    "))\n",
    "distances = np.linalg.norm(other_nodes - this_node, axis=1)\n",
    "imin = np.argmin(distances)\n",
    "nodes_for_dist = other_nodes[\n",
    "    np.arange(len(other_nodes)) != imin\n",
    "]\n",
    "\n",
    "axis = np.linspace(-50, 50, 200)\n",
    "x, y = np.meshgrid(axis, axis)\n",
    "grid = np.stack((x, y), axis=2)[:, :, np.newaxis, :]\n",
    "node_dists = np.linalg.norm(\n",
    "    grid - nodes_for_dist, axis=3\n",
    ")\n",
    "μ = (\n",
    "    1 + (1.04 - 1)/(\n",
    "        1 + np.exp(α*(node_dists - 25))\n",
    "    )\n",
    ").prod(axis=2)\n",
    "\n",
    "fig = plt.figure(4)\n",
    "plot = plt.contour(x, y, μ, levels=8)\n",
    "fig.axes[0].set_axisbelow(True)\n",
    "plt.title(f'Crowding cost, approximate sigmoid, α={α}')\n",
    "plt.clabel(plot)\n",
    "plt.scatter(this_node[0], this_node[1], c='r')\n",
    "plt.scatter(other_nodes[:, 0], other_nodes[:, 1], c='k')\n",
    "plt.grid()\n",
    "plt.show()"
   ]
  },
  {
   "cell_type": "markdown",
   "metadata": {},
   "source": [
    "In Figure 4, the current node is in red, and the node closest to it is ignored in the cost calculation. The other three nodes form a cost surface gradient that wants to push the current node down and to the left.\n",
    "\n",
    "Complex Crowding Cost\n",
    "---\n",
    "\n",
    "> No more than one other NPC within 25 tiles and no more than three other NPCs (not counting the NPCs within 25 tiles) within 120 tiles: 90%"
   ]
  },
  {
   "cell_type": "code",
   "execution_count": null,
   "metadata": {},
   "outputs": [],
   "source": []
  }
 ],
 "metadata": {
  "kernelspec": {
   "display_name": "Python 3",
   "language": "python",
   "name": "python3"
  },
  "language_info": {
   "codemirror_mode": {
    "name": "ipython",
    "version": 3
   },
   "file_extension": ".py",
   "mimetype": "text/x-python",
   "name": "python",
   "nbconvert_exporter": "python",
   "pygments_lexer": "ipython3",
   "version": "3.8.3"
  }
 },
 "nbformat": 4,
 "nbformat_minor": 1
}
