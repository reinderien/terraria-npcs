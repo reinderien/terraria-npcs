{
 "cells": [
  {
   "cell_type": "markdown",
   "metadata": {},
   "source": [
    "There are 19 NPCs, 25 in hard mode. That means up to 50 discrete variables to optimize.\n",
    "\n",
    "This problem has been discussed on\n",
    "[Computer Science Stack Exchange](https://cs.stackexchange.com/questions/127815).\n",
    "\n",
    "In the ideal (discrete) case, simple cost factors such as NPC pair relationships mentioned in the\n",
    "[wiki](https://terraria.gamepedia.com/NPCs#Happiness):\n",
    "\n",
    "> - For each Loved NPC within 25 tiles: 90%\n",
    "> - For each Liked NPC within 25 tiles: 95%\n",
    "> - For each Disliked NPC within 25 tiles: 105%\n",
    "> - For each Hated NPC within 25 tiles: 110%\n",
    "\n",
    "can be represented by a modified Heaviside function for each other node, e.g.:\n",
    "\n",
    "$$\n",
    "\\mu = 1 + (1.05 - 1) H(25 - d)\n",
    "$$"
   ]
  },
  {
   "cell_type": "code",
   "execution_count": 1,
   "metadata": {},
   "outputs": [
    {
     "data": {
      "application/vnd.jupyter.widget-view+json": {
       "model_id": "ac52c185bdc842b79c544cf9ff920c99",
       "version_major": 2,
       "version_minor": 0
      },
      "text/plain": [
       "Canvas(toolbar=Toolbar(toolitems=[('Home', 'Reset original view', 'home', 'home'), ('Back', 'Back to previous …"
      ]
     },
     "metadata": {},
     "output_type": "display_data"
    }
   ],
   "source": [
    "%matplotlib widget\n",
    "\n",
    "import numpy as np\n",
    "import matplotlib.pyplot as plt\n",
    "\n",
    "d = np.linspace(0, 40, 200)\n",
    "μ = 1 + (1.05 - 1)*np.heaviside(25 - d, 0.5)\n",
    "plt.figure(1)\n",
    "plt.plot(d, μ)\n",
    "plt.title('\"Disliked\" cost, ideal Heaviside')\n",
    "plt.xlabel('Distance between these two nodes')\n",
    "plt.ylabel('Cost factor')\n",
    "plt.grid()\n",
    "plt.show()"
   ]
  },
  {
   "cell_type": "markdown",
   "metadata": {},
   "source": [
    "However, this cost function is inconvenient, because it prevents any kind of continuous optimizer from working. It is non-differentiable and so standard techniques like gradient descent will not work. Instead, the suggested approach is to make a continuous sigmoid approximation. Increasing values of $\\alpha$ will improve the approximation:\n",
    "\n",
    "$$\n",
    "\\mu = 1 + \\lim_{\\alpha \\to \\infty} \n",
    "\\frac {1.05 - 1}\n",
    "{1 + e^{\\alpha (d - 25)}}\n",
    "$$"
   ]
  },
  {
   "cell_type": "code",
   "execution_count": 2,
   "metadata": {},
   "outputs": [
    {
     "data": {
      "application/vnd.jupyter.widget-view+json": {
       "model_id": "d1c7618d5187422ab158aa0021b54f80",
       "version_major": 2,
       "version_minor": 0
      },
      "text/plain": [
       "Canvas(toolbar=Toolbar(toolitems=[('Home', 'Reset original view', 'home', 'home'), ('Back', 'Back to previous …"
      ]
     },
     "metadata": {},
     "output_type": "display_data"
    }
   ],
   "source": [
    "α = np.array([0.2, 0.3, 0.5, 1, 4], ndmin=2)\n",
    "d = np.array(np.linspace(0, 40, 500), ndmin=2).T\n",
    "μ = 1 + (1.05 - 1)/(1 + np.exp(α*(d - 25)))\n",
    "plt.figure(2)\n",
    "plt.plot(d, μ)\n",
    "plt.title('\"Disliked\" cost, approximate sigmoid, various α')\n",
    "plt.xlabel('Distance between these two nodes')\n",
    "plt.ylabel('Cost factor')\n",
    "plt.legend(α.flatten())\n",
    "plt.grid()\n",
    "plt.show()"
   ]
  },
  {
   "cell_type": "markdown",
   "metadata": {},
   "source": [
    "Biome costs will be more complex:\n",
    "\n",
    "> - Located in a Loved biome: 90%\n",
    "> - Located in a Liked biome: 95%\n",
    "> - Located in a Disliked biome: 105%\n",
    "> - Located in a Hated biome: 110%\n",
    "\n",
    "because they will sometimes require a two-dimensional cost function. The cost function depends on the calculated quadrant:\n",
    "\n",
    "$$\\theta \\in \\text{I}, 0 \\le \\theta < 4$$\n",
    "\n",
    "$$\n",
    "\\theta=\\mod\\left(\n",
    "   \\left\\lfloor \\frac {2 \\text{atan2}(y,x)} \\pi \\right\\rfloor,\n",
    "   4\n",
    "\\right)\n",
    "$$\n",
    "\n",
    "or as a piece-wise function,\n",
    "\n",
    "$$\n",
    "\\theta = \\begin{cases}\n",
    "  0  & x \\ge 0, y \\ge 0 \\\\\n",
    "  1  & x <   0, y \\ge 0 \\\\\n",
    "  2  & x <   0, y <   0 \\\\\n",
    "  3  & x \\ge 0, y <   0 \\\\\n",
    "\\end{cases}\n",
    "$$\n",
    "\n",
    "$$b_{\\theta} \\in \\text{R}, b_{\\theta} > 0$$\n",
    "\n",
    "For the ideal case,\n",
    "\n",
    "$$\\mu = b_{\\theta}$$\n",
    "\n",
    "For the approximated case, the cost factor must rely on all four quadrants:\n",
    "\n",
    "$$s_x(\\theta) = \\sqrt{2} \\cos \\frac {\\pi(\\theta+0.5)} 2 = (+1, -1, -1, +1)$$\n",
    "$$s_y(\\theta) = \\sqrt{2} \\sin \\frac {\\pi(\\theta+0.5)} 2 = (+1, +1, -1, -1)$$\n",
    "\n",
    "$$\n",
    "\\mu = 1 + \\sum_{\\theta=0}^3\n",
    "\\lim_{\\alpha \\to \\infty}\n",
    "\\frac {b_\\theta - 1}\n",
    "{\n",
    "    \\left(1 + e^{\\alpha x s_x(\\theta)} \\right)\n",
    "    \\left(1 + e^{\\alpha y s_y(\\theta)} \\right)\n",
    "}\n",
    "$$\n",
    "\n",
    "By example, for _liked_ , _hated_ , _neutral_ and _neutral_ biomes in quadrants I through IV respectively:\n",
    "\n",
    "$$b = (0.95, 1.10, 1.00, 1.00)$$"
   ]
  },
  {
   "cell_type": "code",
   "execution_count": 3,
   "metadata": {},
   "outputs": [
    {
     "data": {
      "application/vnd.jupyter.widget-view+json": {
       "model_id": "7395f0fe51154a3b8c31eff3d3ac29ed",
       "version_major": 2,
       "version_minor": 0
      },
      "text/plain": [
       "Canvas(toolbar=Toolbar(toolitems=[('Home', 'Reset original view', 'home', 'home'), ('Back', 'Back to previous …"
      ]
     },
     "metadata": {},
     "output_type": "display_data"
    }
   ],
   "source": [
    "α = 2\n",
    "axis = np.linspace(-5, 5, 200)\n",
    "x, y = np.meshgrid(axis, axis)\n",
    "b  = np.array((0.95,  1.10,  1.00,  1.00), ndmin=3)\n",
    "sx = np.array((1, -1, -1,  1), ndmin=3)\n",
    "sy = np.array((1,  1, -1, -1), ndmin=3)\n",
    "\n",
    "μ = 1 + (\n",
    "    (b - 1)\n",
    "    / (1 + np.exp(-α*sx * x[:, :, np.newaxis]))\n",
    "    / (1 + np.exp(-α*sy * y[:, :, np.newaxis]))\n",
    ").sum(axis=2)\n",
    "\n",
    "plt.figure(3)\n",
    "plot = plt.contour(x, y, μ, levels=15)\n",
    "plt.title(f'Biome cost, approximate sigmoid, α={α}')\n",
    "plt.clabel(plot)\n",
    "plt.grid()\n",
    "plt.show()"
   ]
  },
  {
   "cell_type": "markdown",
   "metadata": {},
   "source": [
    "Multi-node interactions will also be more complex:\n",
    "\n",
    "> - Two or more other NPCs within 25 tiles (for each additional NPC): 104%\n",
    "\n",
    "This implies:\n",
    "\n",
    "- Calculate the distance to all other nodes\n",
    "- Find the closest node and remove it from the cost\n",
    "- For all other nodes, add up sigmoid circles of diameter 25\n",
    "\n",
    "\n"
   ]
  },
  {
   "cell_type": "markdown",
   "metadata": {},
   "source": [
    "> - No more than one other NPC within 25 tiles and no more than three other NPCs (not counting the NPCs within 25 tiles) within 120 tiles: 90%"
   ]
  }
 ],
 "metadata": {
  "kernelspec": {
   "display_name": "Python 3",
   "language": "python",
   "name": "python3"
  },
  "language_info": {
   "codemirror_mode": {
    "name": "ipython",
    "version": 3
   },
   "file_extension": ".py",
   "mimetype": "text/x-python",
   "name": "python",
   "nbconvert_exporter": "python",
   "pygments_lexer": "ipython3",
   "version": "3.8.3"
  }
 },
 "nbformat": 4,
 "nbformat_minor": 1
}
