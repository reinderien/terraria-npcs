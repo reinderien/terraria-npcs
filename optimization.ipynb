{
 "cells": [
  {
   "cell_type": "markdown",
   "metadata": {},
   "source": [
    "There are 19 NPCs, 25 in hard mode. That means up to 50 discrete variables to optimize.\n",
    "\n",
    "This problem has been discussed on\n",
    "[Computer Science Stack Exchange](https://cs.stackexchange.com/questions/127815).\n",
    "\n",
    "In the ideal (discrete) case, a constraint such as the first one mentioned in the\n",
    "[wiki](https://terraria.gamepedia.com/NPCs#Happiness):\n",
    "\n",
    "> Two or more other NPCs within 25 tiles (for each additional NPC): 104%\n",
    "\n",
    "can be represented by a modified Heaviside function for each other node:\n",
    "\n",
    "$$\n",
    "\\mu = 1.04 H(25 - x)\n",
    "$$"
   ]
  },
  {
   "cell_type": "code",
   "execution_count": 11,
   "metadata": {},
   "outputs": [
    {
     "data": {
      "application/vnd.jupyter.widget-view+json": {
       "model_id": "5fa661d875014ade8e192ca264873f12",
       "version_major": 2,
       "version_minor": 0
      },
      "text/plain": [
       "Canvas(toolbar=Toolbar(toolitems=[('Home', 'Reset original view', 'home', 'home'), ('Back', 'Back to previous …"
      ]
     },
     "metadata": {},
     "output_type": "display_data"
    }
   ],
   "source": [
    "%matplotlib widget\n",
    "\n",
    "import numpy as np\n",
    "import matplotlib.pyplot as plt\n",
    "\n",
    "x = np.linspace(0, 40, 200)\n",
    "μ = np.piecewise(\n",
    "    x,\n",
    "    (x <= 25, x > 25),\n",
    "    (1.04, 1.00),\n",
    ")\n",
    "plt.plot(x, μ)\n",
    "plt.grid()\n",
    "plt.xlabel('Distance between these two nodes')\n",
    "plt.ylabel('Cost')\n",
    "plt.title('Crowding cost, ideal Heaviside')\n",
    "plt.show()"
   ]
  },
  {
   "cell_type": "markdown",
   "metadata": {},
   "source": [
    "However, this cost function is inconvenient, because it prevents any kind of continuous optimizer from working. It is non-differentiable and so standard techniques like gradient descent will not work. Instead, the suggested approach is to make a continuous sigmoid approximation:\n",
    "\n",
    "$$\n",
    "\\mu \\approx 1 + \\frac {1.04 - 1}\n",
    "{1 + e^{\\alpha (x - 25)}}\n",
    "$$"
   ]
  },
  {
   "cell_type": "code",
   "execution_count": 17,
   "metadata": {},
   "outputs": [
    {
     "data": {
      "application/vnd.jupyter.widget-view+json": {
       "model_id": "b7bd84d33619460dbd5ed420a0df7c4a",
       "version_major": 2,
       "version_minor": 0
      },
      "text/plain": [
       "Canvas(toolbar=Toolbar(toolitems=[('Home', 'Reset original view', 'home', 'home'), ('Back', 'Back to previous …"
      ]
     },
     "metadata": {},
     "output_type": "display_data"
    }
   ],
   "source": [
    "α = 0.3\n",
    "x = np.linspace(0, 40, 200)\n",
    "μ = 1 + (1.04 - 1)/(1 + np.exp(α*(x - 25)))\n",
    "plt.figure()\n",
    "plt.plot(x, μ)\n",
    "plt.grid()\n",
    "plt.xlabel('Distance between these two nodes')\n",
    "plt.ylabel('Cost')\n",
    "plt.title(f'Crowding cost, approximate sigmoid, α={α}')\n",
    "plt.show()"
   ]
  },
  {
   "cell_type": "code",
   "execution_count": null,
   "metadata": {},
   "outputs": [],
   "source": []
  }
 ],
 "metadata": {
  "kernelspec": {
   "display_name": "Python 3",
   "language": "python",
   "name": "python3"
  },
  "language_info": {
   "codemirror_mode": {
    "name": "ipython",
    "version": 3
   },
   "file_extension": ".py",
   "mimetype": "text/x-python",
   "name": "python",
   "nbconvert_exporter": "python",
   "pygments_lexer": "ipython3",
   "version": "3.8.3"
  }
 },
 "nbformat": 4,
 "nbformat_minor": 1
}
